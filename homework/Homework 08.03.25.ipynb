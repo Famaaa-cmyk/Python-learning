{
 "cells": [
  {
   "cell_type": "code",
   "execution_count": 3,
   "metadata": {},
   "outputs": [],
   "source": [
    "#Homeworkd 08.03.25\n",
    "#Inherit an smartphone class to two new child classes.\n",
    "class Smartphone:\n",
    "    def __init__(phone, brand, model, price):\n",
    "        phone.__brand = brand \n",
    "        phone.__model = model \n",
    "        phone.__price = price\n",
    "    def update_price(phone,new_price):\n",
    "        phone.__price = new_price \n",
    "    def smartphone_details(phone):\n",
    "        print(f'The smartphone brand is {phone.__brand} and the model is {phone.__model} and the price is {phone.__price}')"
   ]
  },
  {
   "cell_type": "code",
   "execution_count": null,
   "metadata": {},
   "outputs": [],
   "source": [
    "#1.Android class\n",
    "#Repeating the set_price function (polymorphism)\n",
    "\n",
    "class Android(Smartphone):\n",
    "    def __init__(phone,brand,model,price):\n",
    "        super().__init__(brand,model,price)\n",
    "    def android_details(phone):\n",
    "        print(f'The phone is a {phone.__brand}, the model is {phone.__model} and the price is{phone.__price}')\n",
    "\n",
    "      "
   ]
  },
  {
   "cell_type": "code",
   "execution_count": 9,
   "metadata": {},
   "outputs": [],
   "source": [
    "Android1 = Android('Samsung', 'S24', '20000')"
   ]
  },
  {
   "cell_type": "code",
   "execution_count": 10,
   "metadata": {},
   "outputs": [
    {
     "ename": "AttributeError",
     "evalue": "type object 'Android' has no attribute '_Android__brand'",
     "output_type": "error",
     "traceback": [
      "\u001b[1;31m---------------------------------------------------------------------------\u001b[0m",
      "\u001b[1;31mAttributeError\u001b[0m                            Traceback (most recent call last)",
      "Input \u001b[1;32mIn [10]\u001b[0m, in \u001b[0;36m<cell line: 1>\u001b[1;34m()\u001b[0m\n\u001b[1;32m----> 1\u001b[0m \u001b[43mAndroid1\u001b[49m\u001b[38;5;241;43m.\u001b[39;49m\u001b[43mandroid_details\u001b[49m\u001b[43m(\u001b[49m\u001b[43m)\u001b[49m\n",
      "Input \u001b[1;32mIn [8]\u001b[0m, in \u001b[0;36mAndroid.android_details\u001b[1;34m(phone)\u001b[0m\n\u001b[0;32m      7\u001b[0m \u001b[38;5;28;01mdef\u001b[39;00m \u001b[38;5;21mandroid_details\u001b[39m(phone):\n\u001b[1;32m----> 8\u001b[0m     \u001b[38;5;28mprint\u001b[39m(\u001b[38;5;124mf\u001b[39m\u001b[38;5;124m'\u001b[39m\u001b[38;5;124mThe phone is a \u001b[39m\u001b[38;5;132;01m{\u001b[39;00mAndroid\u001b[38;5;241m.\u001b[39m__brand\u001b[38;5;132;01m}\u001b[39;00m\u001b[38;5;124m, the model is \u001b[39m\u001b[38;5;132;01m{\u001b[39;00mAndroid\u001b[38;5;241m.\u001b[39m__model\u001b[38;5;132;01m}\u001b[39;00m\u001b[38;5;124m and the price is\u001b[39m\u001b[38;5;132;01m{\u001b[39;00mAndroid\u001b[38;5;241m.\u001b[39m__price\u001b[38;5;132;01m}\u001b[39;00m\u001b[38;5;124m'\u001b[39m)\n",
      "\u001b[1;31mAttributeError\u001b[0m: type object 'Android' has no attribute '_Android__brand'"
     ]
    }
   ],
   "source": [
    "Android1.android_details()"
   ]
  },
  {
   "cell_type": "code",
   "execution_count": null,
   "metadata": {},
   "outputs": [],
   "source": [
    "#2.Iphone class\n",
    "#Acess the display function from parent class SmartPhone to display functionality of SmartPhone for only iphone"
   ]
  },
  {
   "cell_type": "code",
   "execution_count": null,
   "metadata": {},
   "outputs": [],
   "source": []
  },
  {
   "cell_type": "code",
   "execution_count": null,
   "metadata": {},
   "outputs": [],
   "source": []
  },
  {
   "cell_type": "code",
   "execution_count": null,
   "metadata": {},
   "outputs": [],
   "source": []
  },
  {
   "cell_type": "code",
   "execution_count": null,
   "metadata": {},
   "outputs": [],
   "source": []
  },
  {
   "cell_type": "code",
   "execution_count": null,
   "metadata": {},
   "outputs": [],
   "source": []
  }
 ],
 "metadata": {
  "kernelspec": {
   "display_name": "base",
   "language": "python",
   "name": "python3"
  },
  "language_info": {
   "codemirror_mode": {
    "name": "ipython",
    "version": 3
   },
   "file_extension": ".py",
   "mimetype": "text/x-python",
   "name": "python",
   "nbconvert_exporter": "python",
   "pygments_lexer": "ipython3",
   "version": "3.9.12"
  }
 },
 "nbformat": 4,
 "nbformat_minor": 2
}
