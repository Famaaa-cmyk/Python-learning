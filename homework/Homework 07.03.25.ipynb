{
 "cells": [
  {
   "cell_type": "code",
   "execution_count": null,
   "metadata": {},
   "outputs": [],
   "source": [
    "#Homework 07.02.25\n",
    "#1.Create a class Car with encapsulated attributes for model, year and owner. \n",
    "#Add methods to update the owner and display the car details.\n",
    "class Car:\n",
    "    def __init__(self,model, year,owner):\n",
    "        self.__model = model\n",
    "        self.__year = year\n",
    "        self.__owner = owner\n",
    "    \n",
    "    def change_owner(self,new_owner):\n",
    "        self.__owner = new_owner\n",
    "    def car_details(self):\n",
    "        print(f'The car with model {self.__model} is made in year {self.__year} and is owned by {self.__owner}')\n"
   ]
  },
  {
   "cell_type": "code",
   "execution_count": null,
   "metadata": {},
   "outputs": [],
   "source": [
    "Car1 = Car('Toyata',2020,'Peter') "
   ]
  },
  {
   "cell_type": "code",
   "execution_count": 6,
   "metadata": {},
   "outputs": [],
   "source": [
    "Car1.change_owner('David')"
   ]
  },
  {
   "cell_type": "code",
   "execution_count": 7,
   "metadata": {},
   "outputs": [
    {
     "name": "stdout",
     "output_type": "stream",
     "text": [
      "The car with model Toyata is made in year 2020 and is owned by David\n"
     ]
    }
   ],
   "source": [
    "Car1.car_details()"
   ]
  },
  {
   "cell_type": "code",
   "execution_count": 77,
   "metadata": {},
   "outputs": [],
   "source": [
    "#2.Design a class BankAccount with private attributes for account_number,balance, and password.\n",
    "#Implement methods to deposit, withdraw and check balance with password verification.\n",
    "class BankAccount:\n",
    "    def __init__(self, account_number, balance, password):\n",
    "        self.__account_number = account_number\n",
    "        self.__balance = balance\n",
    "        self.__passoword = password\n",
    "        self.__status = 'offline'\n",
    "    def loggin(self):\n",
    "        x = input('Enter account number')\n",
    "        y = input ('Enter Password')\n",
    "        if x == self.__account_number and y == self.__passoword:\n",
    "          print('You are logged in')\n",
    "          self.__status = 'online'\n",
    "        else:\n",
    "           print('wrong credentials')\n",
    "       \n",
    "    def deposite(self,amount):\n",
    "        self.__balance = self.__balance + amount \n",
    "        print('money is successfully deposite')\n",
    "    def withdraw(self,amount):\n",
    "        if self.__status =='online':\n",
    "            self.__balance = self.__balance - amount \n",
    "            print('money is successfully deposite')\n",
    "        else:\n",
    "            print('sorry you are not writting correct password try again')\n",
    "            self.loggin()\n",
    "\n",
    "            \n",
    "    def tell_balance(self):\n",
    "        print('Your check balance is' ,self.__balance)\n",
    "\n",
    "   \n",
    "\n",
    "          #How to show deposit and withdrav and check balance\n",
    "      \n"
   ]
  },
  {
   "cell_type": "code",
   "execution_count": 84,
   "metadata": {},
   "outputs": [],
   "source": [
    "b1 = BankAccount('1001',2000,'123')"
   ]
  },
  {
   "cell_type": "code",
   "execution_count": 85,
   "metadata": {},
   "outputs": [
    {
     "name": "stdout",
     "output_type": "stream",
     "text": [
      "money is successfully deposite\n"
     ]
    }
   ],
   "source": [
    "b1.deposite(100)"
   ]
  },
  {
   "cell_type": "code",
   "execution_count": 86,
   "metadata": {},
   "outputs": [
    {
     "name": "stdout",
     "output_type": "stream",
     "text": [
      "Your check balance is 2100\n"
     ]
    }
   ],
   "source": [
    "b1.tell_balance()"
   ]
  },
  {
   "cell_type": "code",
   "execution_count": 87,
   "metadata": {},
   "outputs": [
    {
     "name": "stdout",
     "output_type": "stream",
     "text": [
      "sorry you are not writting correct password try again\n",
      "You are logged in\n"
     ]
    }
   ],
   "source": [
    "b1.withdraw(200)"
   ]
  },
  {
   "cell_type": "code",
   "execution_count": 88,
   "metadata": {},
   "outputs": [
    {
     "name": "stdout",
     "output_type": "stream",
     "text": [
      "money is successfully deposite\n"
     ]
    }
   ],
   "source": [
    "b1.withdraw(200)"
   ]
  },
  {
   "cell_type": "code",
   "execution_count": null,
   "metadata": {},
   "outputs": [],
   "source": []
  },
  {
   "cell_type": "code",
   "execution_count": null,
   "metadata": {},
   "outputs": [],
   "source": [
    "#3.Write a class Book that stores title, author and ISBN as private attributes.\n",
    "#Provide methods to retrive the details and update the title.\n",
    "class Book:\n",
    "    def __init__(books, title, author, ISBN):\n",
    "        books.__title = title\n",
    "        books.__author = author\n",
    "        books.__ISBN = ISBN\n",
    "    def uptate_title(books,new_title):\n",
    "       books.__title = new_title\n",
    "    def book_details(books):\n",
    "       print(f'The book with the title {books.__title} is writen by {books.__author} and the ISBN is {books.__ISBN}')\n",
    "   "
   ]
  },
  {
   "cell_type": "code",
   "execution_count": 10,
   "metadata": {},
   "outputs": [],
   "source": [
    "Book1 = Book('Harry Potter','J.K Rowling', 2121)"
   ]
  },
  {
   "cell_type": "code",
   "execution_count": 19,
   "metadata": {},
   "outputs": [],
   "source": [
    "Book1.uptate_title('Harry Potter and the chamber of secrets')"
   ]
  },
  {
   "cell_type": "code",
   "execution_count": 20,
   "metadata": {},
   "outputs": [
    {
     "name": "stdout",
     "output_type": "stream",
     "text": [
      "The book with the title Harry Potter and the chamber of secrets is writen by J.K Rowling and the ISBN is 2121\n"
     ]
    }
   ],
   "source": [
    "Book1.book_details()"
   ]
  },
  {
   "cell_type": "code",
   "execution_count": null,
   "metadata": {},
   "outputs": [],
   "source": [
    "#4.Make a class Employee with encapsulated fields name, ID and salary.\n",
    "#Add methods to update the salary and display the employee details.\n",
    "class Employee:\n",
    "    def __init__(self, name, ID, salary):\n",
    "        self.__name = name \n",
    "        self.__ID = ID\n",
    "        self.__salary = salary \n",
    "    def update_salary(self, new_salary):\n",
    "        self.__salary = new_salary\n",
    "    def employee_details(self): \n",
    "        print(f'The employee with the name {self.__name} and ID number {self.__ID} has the salary is {self.__salary}')"
   ]
  },
  {
   "cell_type": "code",
   "execution_count": 51,
   "metadata": {},
   "outputs": [],
   "source": [
    "Employee1 = Employee('Jim Peters', 3242, 122000)"
   ]
  },
  {
   "cell_type": "code",
   "execution_count": 52,
   "metadata": {},
   "outputs": [],
   "source": [
    "Employee1.update_salary (140000)"
   ]
  },
  {
   "cell_type": "code",
   "execution_count": 53,
   "metadata": {},
   "outputs": [
    {
     "name": "stdout",
     "output_type": "stream",
     "text": [
      "The employee with the name Jim Peters and ID number 3242 has the salary is 140000\n"
     ]
    }
   ],
   "source": [
    "Employee1.employee_details()"
   ]
  },
  {
   "cell_type": "code",
   "execution_count": 58,
   "metadata": {},
   "outputs": [],
   "source": [
    "#5.Create a class Smartphone with private attributes brand,model and price.\n",
    "#Implement methods to get and set the price and display phone details.\n",
    "class Smartphone:\n",
    "    def __init__(phone, brand, model, price):\n",
    "        phone.__brand = brand \n",
    "        phone.__model = model \n",
    "        phone.__price = price\n",
    "    def update_price(phone,new_price):\n",
    "        phone.__price = new_price \n",
    "    def smartphone_details(phone):\n",
    "        print(f'The smartphone brand is {phone.__brand} and the model is {phone.__model} and the price is {phone.__price}')"
   ]
  },
  {
   "cell_type": "code",
   "execution_count": 59,
   "metadata": {},
   "outputs": [],
   "source": [
    "Smartphone1 = Smartphone('Iphone', 15, 20000)"
   ]
  },
  {
   "cell_type": "code",
   "execution_count": 60,
   "metadata": {},
   "outputs": [],
   "source": [
    "Smartphone1.update_price (25000)"
   ]
  },
  {
   "cell_type": "code",
   "execution_count": 61,
   "metadata": {},
   "outputs": [
    {
     "name": "stdout",
     "output_type": "stream",
     "text": [
      "The smartphone brand is Iphone and the model is 15 and the price is 25000\n"
     ]
    }
   ],
   "source": [
    "Smartphone1.smartphone_details()"
   ]
  },
  {
   "cell_type": "code",
   "execution_count": null,
   "metadata": {},
   "outputs": [],
   "source": []
  },
  {
   "cell_type": "code",
   "execution_count": null,
   "metadata": {},
   "outputs": [],
   "source": []
  },
  {
   "cell_type": "code",
   "execution_count": null,
   "metadata": {},
   "outputs": [],
   "source": []
  },
  {
   "cell_type": "code",
   "execution_count": null,
   "metadata": {},
   "outputs": [],
   "source": []
  },
  {
   "cell_type": "code",
   "execution_count": null,
   "metadata": {},
   "outputs": [],
   "source": []
  },
  {
   "cell_type": "code",
   "execution_count": null,
   "metadata": {},
   "outputs": [],
   "source": []
  },
  {
   "cell_type": "code",
   "execution_count": null,
   "metadata": {},
   "outputs": [],
   "source": []
  }
 ],
 "metadata": {
  "kernelspec": {
   "display_name": "base",
   "language": "python",
   "name": "python3"
  },
  "language_info": {
   "codemirror_mode": {
    "name": "ipython",
    "version": 3
   },
   "file_extension": ".py",
   "mimetype": "text/x-python",
   "name": "python",
   "nbconvert_exporter": "python",
   "pygments_lexer": "ipython3",
   "version": "3.9.12"
  }
 },
 "nbformat": 4,
 "nbformat_minor": 2
}
