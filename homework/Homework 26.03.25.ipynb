{
 "cells": [
  {
   "cell_type": "code",
   "execution_count": null,
   "metadata": {},
   "outputs": [],
   "source": [
    "#Homework 26.03.25\n",
    "#a simple calculator using Tkinter.\n"
   ]
  },
  {
   "cell_type": "code",
   "execution_count": 1,
   "metadata": {},
   "outputs": [],
   "source": [
    "import tkinter as tk"
   ]
  },
  {
   "cell_type": "code",
   "execution_count": 2,
   "metadata": {},
   "outputs": [],
   "source": [
    "window = tk.Tk()\n",
    "\n",
    "inp1 = tk.Entry()\n",
    "inp1.pack()\n",
    "syb = tk.Entry()\n",
    "syb.pack()\n",
    "inp2 = tk.Entry()\n",
    "inp2.pack()\n",
    "label = tk.Label(text='Results')\n",
    "label.pack()\n",
    "\n",
    "def calc():\n",
    "    i1 = inp1.get()\n",
    "    s = syb.get()\n",
    "    i2 = inp2.get()\n",
    "    result = eval(i1+s+i2) \n",
    "    label.config(text=f'Result is {result}')\n",
    "\n",
    "but = tk.Button(text='Calculate', command=calc)\n",
    "but.pack()\n",
    "\n",
    "\n",
    "\n",
    "window.mainloop()\n"
   ]
  },
  {
   "cell_type": "markdown",
   "metadata": {},
   "source": [
    "### writing as obect oriented programming"
   ]
  },
  {
   "cell_type": "code",
   "execution_count": 3,
   "metadata": {},
   "outputs": [],
   "source": [
    "class Calculator:\n",
    "    def __init__(self):\n",
    "        self.window = tk.Tk()\n",
    "        self.inp1 = tk.Entry()\n",
    "        self.inp1.pack()\n",
    "        self.syb = tk.Entry()\n",
    "        self.syb.pack()\n",
    "        self.inp2 = tk.Entry()\n",
    "        self.inp2.pack()\n",
    "        self.label = tk.Label(text='Results')\n",
    "        self.label.pack()\n",
    "        \n",
    "        self.but = tk.Button(text='Calculate', command=self.calc)\n",
    "        self.but.pack()  \n",
    "        self.window.mainloop()\n",
    "\n",
    "        \n",
    "    def calc(self):\n",
    "        i1 = self.inp1.get()\n",
    "        s = self.syb.get()\n",
    "        i2 = self.inp2.get()\n",
    "        result = eval(i1+s+i2) \n",
    "        self.label.config(text=f'Result is {result}')\n"
   ]
  },
  {
   "cell_type": "code",
   "execution_count": 4,
   "metadata": {},
   "outputs": [],
   "source": [
    "s1=Calculator()"
   ]
  },
  {
   "cell_type": "code",
   "execution_count": null,
   "metadata": {},
   "outputs": [],
   "source": []
  }
 ],
 "metadata": {
  "kernelspec": {
   "display_name": "base",
   "language": "python",
   "name": "python3"
  },
  "language_info": {
   "codemirror_mode": {
    "name": "ipython",
    "version": 3
   },
   "file_extension": ".py",
   "mimetype": "text/x-python",
   "name": "python",
   "nbconvert_exporter": "python",
   "pygments_lexer": "ipython3",
   "version": "3.9.12"
  }
 },
 "nbformat": 4,
 "nbformat_minor": 2
}
