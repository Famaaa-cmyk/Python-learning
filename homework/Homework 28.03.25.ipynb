{
 "cells": [
  {
   "cell_type": "markdown",
   "metadata": {},
   "source": [
    "### make a button type of calculator"
   ]
  },
  {
   "cell_type": "code",
   "execution_count": 6,
   "metadata": {},
   "outputs": [],
   "source": [
    "import tkinter as tk"
   ]
  },
  {
   "cell_type": "markdown",
   "metadata": {},
   "source": [
    "### in calculator we have to make 5\n",
    "##### 1 frame for screen\n",
    "##### 2nd frame for button 1 2 3 +\n",
    "##### 3rd frame for button 4 5 6 -\n",
    "##### 4th frame for button 7 8 9 *\n",
    "##### 5th frame for button C 0 = /\n"
   ]
  },
  {
   "cell_type": "code",
   "execution_count": null,
   "metadata": {},
   "outputs": [
    {
     "name": "stdout",
     "output_type": "stream",
     "text": [
      "calculating results\n"
     ]
    }
   ],
   "source": [
    "import tkinter as tk\n",
    "window = tk.Tk()\n",
    "\n",
    "\n",
    "\n",
    "\n",
    "\n",
    "f1=tk.Frame()\n",
    "f2=tk.Frame()\n",
    "f3=tk.Frame()\n",
    "f4=tk.Frame()\n",
    "f5=tk.Frame()\n",
    "\n",
    "ent = tk.Entry(f1)\n",
    "ent.pack()\n",
    "\n",
    "def number_adding(x):\n",
    "    ent.insert(0,x)\n",
    "\n",
    "\n",
    "b1 = tk.Button(f2, text='1', command=lambda: number_adding(1))\n",
    "b2 = tk.Button(f2, text='2', command=lambda: number_adding(2))\n",
    "b3 = tk.Button(f2, text='3', command=lambda: number_adding(3))\n",
    "bp = tk.Button(f2, text='+', command=lambda: number_adding('+'))\n",
    "\n",
    "b4 = tk.Button(f3, text='4', command=lambda: number_adding(4))\n",
    "b5 = tk.Button(f3, text='5', command=lambda: number_adding(5))\n",
    "b6 = tk.Button(f3, text='6', command=lambda: number_adding(6))\n",
    "bn = tk.Button(f3, text='-', command=lambda: number_adding('-'))\n",
    "\n",
    "b7 = tk.Button(f4, text='7', command=lambda: number_adding(7))\n",
    "b8 = tk.Button(f4, text='8', command=lambda: number_adding(8))\n",
    "b9 = tk.Button(f4, text='9', command=lambda: number_adding(9))\n",
    "bm = tk.Button(f4, text='*', command=lambda: number_adding('*'))\n",
    "\n",
    "\n",
    "def clear_entry():\n",
    "   print('clearing entry')  # Clear the entry field\n",
    "   ent.delete(0,tk.END)\n",
    "\n",
    "\n",
    "def calculate_result():\n",
    "    print('calculating results')\n",
    "    data = ent.get()\n",
    "    result = eval(data)\n",
    "    ent.delete(0,tk.END)\n",
    "    ent.insert(0,result)\n",
    "\n",
    "b10 = tk.Button(f5, text='C', command=clear_entry)  # Clear button\n",
    "b11 = tk.Button(f5, text='0', command=lambda: number_adding(0))\n",
    "be = tk.Button(f5, text='=', command=calculate_result)  # Equals button\n",
    "bd = tk.Button(f5, text='/', command=lambda: number_adding('/'))\n",
    "\n",
    "\n",
    "\n",
    "## oack all buttons as left\n",
    "b1.pack(side='left')\n",
    "b2.pack(side='left')\n",
    "b3.pack(side='left')\n",
    "bp.pack(side='left')\n",
    "b4.pack(side='left')\n",
    "b5.pack(side='left')\n",
    "b6.pack(side='left')\n",
    "bn.pack(side='left')\n",
    "b7.pack(side='left')\n",
    "b8.pack(side='left')\n",
    "b9.pack(side='left')\n",
    "bm.pack(side='left')\n",
    "b10.pack(side='left')\n",
    "b11.pack(side='left')\n",
    "be.pack(side='left')\n",
    "bd.pack(side='left')\n",
    "\n",
    "\n",
    "\n",
    "## pack all frames as tope f1.ack(side='top')\n",
    "f1.pack(side='top')\n",
    "f2.pack(side='top')\n",
    "f3.pack(side='top')\n",
    "f4.pack(side='top')\n",
    "f5.pack(side='top')\n",
    "\n",
    "\n",
    "\n",
    "window.mainloop()\n",
    "\n",
    "\n",
    "\n",
    "\n"
   ]
  },
  {
   "cell_type": "code",
   "execution_count": null,
   "metadata": {},
   "outputs": [],
   "source": []
  }
 ],
 "metadata": {
  "kernelspec": {
   "display_name": "base",
   "language": "python",
   "name": "python3"
  },
  "language_info": {
   "codemirror_mode": {
    "name": "ipython",
    "version": 3
   },
   "file_extension": ".py",
   "mimetype": "text/x-python",
   "name": "python",
   "nbconvert_exporter": "python",
   "pygments_lexer": "ipython3",
   "version": "3.9.12"
  }
 },
 "nbformat": 4,
 "nbformat_minor": 2
}
