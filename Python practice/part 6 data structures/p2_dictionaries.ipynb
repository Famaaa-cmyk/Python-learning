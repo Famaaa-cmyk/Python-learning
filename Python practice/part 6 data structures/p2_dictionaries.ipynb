{
 "cells": [
  {
   "cell_type": "code",
   "execution_count": 2,
   "metadata": {},
   "outputs": [
    {
     "name": "stdout",
     "output_type": "stream",
     "text": [
      "mango\n"
     ]
    }
   ],
   "source": [
    "fruits = ['apple','orange','mango'] # position or index 0 1 and 2\n",
    "\n",
    "print(fruits[2])"
   ]
  },
  {
   "cell_type": "code",
   "execution_count": 3,
   "metadata": {},
   "outputs": [
    {
     "name": "stdout",
     "output_type": "stream",
     "text": [
      "mango\n"
     ]
    }
   ],
   "source": [
    "fruits = {\n",
    "    0  : 'apple',\n",
    "    1  : 'orange',\n",
    "    10 : 'mango'\n",
    "}\n",
    "\n",
    "print ( fruits[10])"
   ]
  },
  {
   "cell_type": "code",
   "execution_count": 10,
   "metadata": {},
   "outputs": [
    {
     "name": "stdout",
     "output_type": "stream",
     "text": [
      "mango\n"
     ]
    },
    {
     "ename": "KeyError",
     "evalue": "'pink'",
     "output_type": "error",
     "traceback": [
      "\u001b[1;31m---------------------------------------------------------------------------\u001b[0m",
      "\u001b[1;31mKeyError\u001b[0m                                  Traceback (most recent call last)",
      "Input \u001b[1;32mIn [10]\u001b[0m, in \u001b[0;36m<cell line: 8>\u001b[1;34m()\u001b[0m\n\u001b[0;32m      1\u001b[0m fruits_colors \u001b[38;5;241m=\u001b[39m {\n\u001b[0;32m      2\u001b[0m     \u001b[38;5;124m'\u001b[39m\u001b[38;5;124mred\u001b[39m\u001b[38;5;124m'\u001b[39m : \u001b[38;5;124m'\u001b[39m\u001b[38;5;124mapple\u001b[39m\u001b[38;5;124m'\u001b[39m,\n\u001b[0;32m      3\u001b[0m     \u001b[38;5;124m'\u001b[39m\u001b[38;5;124morange\u001b[39m\u001b[38;5;124m'\u001b[39m : \u001b[38;5;124m'\u001b[39m\u001b[38;5;124morange\u001b[39m\u001b[38;5;124m'\u001b[39m,\n\u001b[0;32m      4\u001b[0m     \u001b[38;5;124m'\u001b[39m\u001b[38;5;124mgreen\u001b[39m\u001b[38;5;124m'\u001b[39m : \u001b[38;5;124m'\u001b[39m\u001b[38;5;124mmango\u001b[39m\u001b[38;5;124m'\u001b[39m\n\u001b[0;32m      5\u001b[0m }\n\u001b[0;32m      7\u001b[0m \u001b[38;5;28mprint\u001b[39m(fruits_colors[\u001b[38;5;124m'\u001b[39m\u001b[38;5;124mgreen\u001b[39m\u001b[38;5;124m'\u001b[39m])\n\u001b[1;32m----> 8\u001b[0m \u001b[38;5;28mprint\u001b[39m(\u001b[43mfruits_colors\u001b[49m\u001b[43m[\u001b[49m\u001b[38;5;124;43m'\u001b[39;49m\u001b[38;5;124;43mpink\u001b[39;49m\u001b[38;5;124;43m'\u001b[39;49m\u001b[43m]\u001b[49m)\n",
      "\u001b[1;31mKeyError\u001b[0m: 'pink'"
     ]
    }
   ],
   "source": [
    "fruits_colors = {\n",
    "    'red' : 'apple',\n",
    "    'orange' : 'orange',\n",
    "    'green' : 'mango'\n",
    "}\n",
    "\n",
    "print(fruits_colors['green'])\n",
    "print(fruits_colors['pink'])"
   ]
  },
  {
   "cell_type": "code",
   "execution_count": 9,
   "metadata": {},
   "outputs": [
    {
     "name": "stdout",
     "output_type": "stream",
     "text": [
      "not there\n"
     ]
    }
   ],
   "source": [
    "### please practice to make a dcitionary of 3 countries and their country code\n",
    "countries = {\n",
    "    'Norway':'47',\n",
    "    'Sweden':'52',\n",
    "    'Danmark': '42',\n",
    "\n",
    "}\n",
    "print(countries.get('USA','not there'))"
   ]
  },
  {
   "cell_type": "code",
   "execution_count": 11,
   "metadata": {},
   "outputs": [
    {
     "data": {
      "text/plain": [
       "dict_keys(['red', 'orange', 'green'])"
      ]
     },
     "execution_count": 11,
     "metadata": {},
     "output_type": "execute_result"
    }
   ],
   "source": [
    "fruits_colors.keys()"
   ]
  },
  {
   "cell_type": "code",
   "execution_count": 12,
   "metadata": {},
   "outputs": [
    {
     "data": {
      "text/plain": [
       "dict_values(['apple', 'orange', 'mango'])"
      ]
     },
     "execution_count": 12,
     "metadata": {},
     "output_type": "execute_result"
    }
   ],
   "source": [
    "fruits_colors.values()"
   ]
  },
  {
   "cell_type": "code",
   "execution_count": 13,
   "metadata": {},
   "outputs": [
    {
     "data": {
      "text/plain": [
       "dict_items([(0, 'apple'), (1, 'orange'), (10, 'mango')])"
      ]
     },
     "execution_count": 13,
     "metadata": {},
     "output_type": "execute_result"
    }
   ],
   "source": [
    "fruits.items()"
   ]
  },
  {
   "cell_type": "code",
   "execution_count": 15,
   "metadata": {},
   "outputs": [
    {
     "name": "stdout",
     "output_type": "stream",
     "text": [
      "the color of apple is red\n",
      "the color of orange is orange\n",
      "the color of mango is green\n"
     ]
    }
   ],
   "source": [
    "for color,fruit in fruits_colors.items():\n",
    "    print(f'the color of {fruit} is {color}')"
   ]
  },
  {
   "cell_type": "code",
   "execution_count": 19,
   "metadata": {},
   "outputs": [
    {
     "name": "stdout",
     "output_type": "stream",
     "text": [
      "The country number of Norway is 47\n",
      "The country number of Sweden is 52\n",
      "The country number of Danmark is 42\n"
     ]
    }
   ],
   "source": [
    "for country, country_nr in countries.items():\n",
    "    print(f'The country number of {country} is {country_nr}')"
   ]
  },
  {
   "cell_type": "code",
   "execution_count": 22,
   "metadata": {},
   "outputs": [],
   "source": [
    "from data import country_codes"
   ]
  },
  {
   "cell_type": "code",
   "execution_count": null,
   "metadata": {},
   "outputs": [],
   "source": [
    "# run a loop and print only even country code based coumnntry names"
   ]
  },
  {
   "cell_type": "code",
   "execution_count": 28,
   "metadata": {},
   "outputs": [
    {
     "name": "stdout",
     "output_type": "stream",
     "text": [
      "20 is a even number for Egypt\n",
      "30 is a even number for Greece\n",
      "32 is a even number for Belgium\n",
      "34 is a even number for Spain\n",
      "36 is a even number for Hungary\n",
      "40 is a even number for Romania\n",
      "44 is a even number for United Kingdom\n",
      "46 is a even number for Sweden\n",
      "48 is a even number for Poland\n",
      "52 is a even number for Mexico\n",
      "54 is a even number for Argentina\n",
      "56 is a even number for Chile\n",
      "58 is a even number for Venezuela\n",
      "60 is a even number for Malaysia\n",
      "62 is a even number for Indonesia\n",
      "64 is a even number for New Zealand\n",
      "66 is a even number for Thailand\n",
      "82 is a even number for South Korea\n",
      "84 is a even number for Vietnam\n",
      "86 is a even number for China\n",
      "90 is a even number for Turkey\n",
      "92 is a even number for Pakistan\n",
      "94 is a even number for Sri Lanka\n",
      "98 is a even number for Iran\n",
      "212 is a even number for Morocco\n",
      "216 is a even number for Tunisia\n",
      "218 is a even number for Libya\n",
      "220 is a even number for Gambia\n",
      "222 is a even number for Mauritania\n",
      "224 is a even number for Guinea\n",
      "226 is a even number for Burkina Faso\n",
      "228 is a even number for Togo\n",
      "230 is a even number for Mauritius\n",
      "232 is a even number for Sierra Leone\n",
      "234 is a even number for Nigeria\n",
      "236 is a even number for Central African Republic\n",
      "238 is a even number for Cape Verde\n",
      "240 is a even number for Equatorial Guinea\n",
      "242 is a even number for Republic of the Congo\n",
      "244 is a even number for Angola\n",
      "246 is a even number for British Indian Ocean Territory\n",
      "248 is a even number for Seychelles\n",
      "250 is a even number for Rwanda\n",
      "252 is a even number for Somalia\n",
      "254 is a even number for Kenya\n",
      "256 is a even number for Uganda\n",
      "258 is a even number for Mozambique\n",
      "260 is a even number for Zambia\n",
      "262 is a even number for Réunion\n",
      "264 is a even number for Namibia\n",
      "266 is a even number for Lesotho\n",
      "268 is a even number for Eswatini\n",
      "290 is a even number for Saint Helena\n",
      "298 is a even number for Faroe Islands\n",
      "350 is a even number for Gibraltar\n",
      "352 is a even number for Luxembourg\n",
      "354 is a even number for Iceland\n",
      "356 is a even number for Malta\n",
      "358 is a even number for Finland\n",
      "370 is a even number for Lithuania\n",
      "372 is a even number for Estonia\n",
      "374 is a even number for Armenia\n",
      "376 is a even number for Andorra\n",
      "378 is a even number for San Marino\n",
      "380 is a even number for Ukraine\n",
      "382 is a even number for Montenegro\n",
      "386 is a even number for Slovenia\n",
      "420 is a even number for Czech Republic\n"
     ]
    }
   ],
   "source": [
    "for code,country in country_codes.items():\n",
    "    if code %2==0:\n",
    "        print(f'{code} is a even number for {country}')\n",
    "  "
   ]
  },
  {
   "cell_type": "code",
   "execution_count": 30,
   "metadata": {},
   "outputs": [
    {
     "name": "stdout",
     "output_type": "stream",
     "text": [
      "orange\n"
     ]
    }
   ],
   "source": [
    "# print only those fruits which has a in their color\n",
    "\n",
    "for c,f in fruits_colors.items():\n",
    "    if 'a' in c:\n",
    "        print(f)"
   ]
  },
  {
   "cell_type": "code",
   "execution_count": null,
   "metadata": {},
   "outputs": [],
   "source": []
  }
 ],
 "metadata": {
  "kernelspec": {
   "display_name": "base",
   "language": "python",
   "name": "python3"
  },
  "language_info": {
   "codemirror_mode": {
    "name": "ipython",
    "version": 3
   },
   "file_extension": ".py",
   "mimetype": "text/x-python",
   "name": "python",
   "nbconvert_exporter": "python",
   "pygments_lexer": "ipython3",
   "version": "3.9.12"
  }
 },
 "nbformat": 4,
 "nbformat_minor": 2
}
