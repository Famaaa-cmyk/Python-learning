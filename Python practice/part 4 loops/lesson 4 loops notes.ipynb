{
 "cells": [
  {
   "cell_type": "code",
   "execution_count": 22,
   "metadata": {},
   "outputs": [
    {
     "name": "stdout",
     "output_type": "stream",
     "text": [
      "1 is taken\n",
      "------\n",
      "apple is taken\n",
      "------\n",
      "3 is taken\n",
      "------\n",
      "True is taken\n",
      "------\n",
      "5.56 is taken\n",
      "------\n",
      "-----------------program ended--------------\n"
     ]
    }
   ],
   "source": [
    "numbers = (1,'apple',3,True,5.56)\n",
    "for f in numbers:\n",
    "    print(f,'is taken')\n",
    "    print('------')\n",
    "\n",
    "print('-----------------program ended--------------')"
   ]
  },
  {
   "cell_type": "code",
   "execution_count": 23,
   "metadata": {},
   "outputs": [
    {
     "name": "stdout",
     "output_type": "stream",
     "text": [
      "sorry 123 is not even\n",
      "42\n",
      "sorry 43 is not even\n",
      "sorry 43 is not even\n",
      "34\n",
      "sorry 545 is not even\n",
      "sorry 23 is not even\n",
      "4\n",
      "sorry 3 is not even\n",
      "43532\n",
      "sorry 53435 is not even\n",
      "sorry 3432345 is not even\n",
      "sorry 63 is not even\n"
     ]
    }
   ],
   "source": [
    "# please write a program and print if f %2 ==0\n",
    "numbers = [123,42,43,43,34,545,23,4,3,43532,53435,3432345,63]\n",
    "# you will write a for loop\n",
    "# you will collect a value in f one by using that loop and finally if condition apply that rule \n",
    "\n",
    "for f in numbers:\n",
    "    if f%2 == 0:\n",
    "        print(f)\n",
    "    else:\n",
    "        print(f'sorry {f} is not even')\n",
    "\n"
   ]
  },
  {
   "cell_type": "code",
   "execution_count": 24,
   "metadata": {},
   "outputs": [
    {
     "name": "stdout",
     "output_type": "stream",
     "text": [
      "545\n",
      "53435\n",
      "3432345\n"
     ]
    }
   ],
   "source": [
    "## please find if the number from numbers is multiple of 5 or not\n",
    "for number in numbers:\n",
    "    if number%5 == 0:\n",
    "        print(number)"
   ]
  },
  {
   "cell_type": "code",
   "execution_count": 27,
   "metadata": {},
   "outputs": [
    {
     "name": "stdout",
     "output_type": "stream",
     "text": [
      "temperature is decreasign and day is 1\n",
      "temperature is decreasign and day is 2\n",
      "temperature is decreasign and day is 3\n",
      "temperature is decreasign and day is 4\n",
      "temperature is decreasign and day is 5\n",
      "temperature is decreasign and day is 6\n",
      "temperature is decreasign and day is 7\n",
      "temperature is decreasign and day is 8\n",
      "temperature is decreasign and day is 9\n",
      "temperature is decreasign and day is 10\n",
      "temperature is decreasign and day is 11\n",
      "temperature is decreasign and day is 12\n",
      "temperature is decreasign and day is 13\n",
      "temperature is decreasign and day is 14\n",
      "temperature is decreasign and day is 15\n",
      "temperature is decreasign and day is 16\n",
      "temperature is decreasign and day is 17\n",
      "temperature is decreasign and day is 18\n",
      "temperature is decreasign and day is 19\n",
      "temperature is decreasign and day is 20\n",
      "temperature is decreasign and day is 21\n",
      "temperature is decreasign and day is 22\n",
      "temperature is decreasign and day is 23\n",
      "temperature is decreasign and day is 24\n",
      "temperature is decreasign and day is 25\n",
      "temperature is decreasign and day is 26\n",
      "temperature is decreasign and day is 27\n",
      "temperature is decreasign and day is 28\n",
      "temperature is decreasign and day is 29\n",
      "temperature is decreasign and day is 30\n",
      "temperature is decreasign and day is 31\n",
      "temperature is decreasign and day is 32\n",
      "temperature is decreasign and day is 33\n",
      "temperature is decreasign and day is 34\n",
      "temperature is decreasign and day is 35\n",
      "temperature is decreasign and day is 36\n",
      "temperature is decreasign and day is 37\n",
      "temperature is decreasign and day is 38\n",
      "temperature is decreasign and day is 39\n",
      "temperature is decreasign and day is 40\n",
      "temperature is decreasign and day is 41\n",
      "temperature is decreasign and day is 42\n",
      "temperature is decreasign and day is 43\n",
      "temperature is decreasign and day is 44\n",
      "temperature is decreasign and day is 45\n",
      "temperature is decreasign and day is 46\n",
      "temperature is decreasign and day is 47\n",
      "temperature is decreasign and day is 48\n",
      "temperature is decreasign and day is 49\n",
      "temperature is decreasign and day is 50\n",
      "temperature is decreasign and day is 51\n",
      "temperature is decreasign and day is 52\n",
      "temperature is decreasign and day is 53\n",
      "temperature is decreasign and day is 54\n",
      "temperature is decreasign and day is 55\n",
      "temperature is decreasign and day is 56\n",
      "temperature is decreasign and day is 57\n",
      "temperature is decreasign and day is 58\n",
      "temperature is decreasign and day is 59\n",
      "temperature is decreasign and day is 60\n",
      "temperature is decreasign and day is 61\n",
      "temperature is decreasign and day is 62\n",
      "temperature is decreasign and day is 63\n",
      "temperature is decreasign and day is 64\n",
      "temperature is decreasign and day is 65\n",
      "temperature is decreasign and day is 66\n",
      "temperature is decreasign and day is 67\n",
      "temperature is decreasign and day is 68\n",
      "temperature is decreasign and day is 69\n",
      "temperature is decreasign and day is 70\n",
      "temperature is decreasign and day is 71\n",
      "temperature is decreasign and day is 72\n",
      "temperature is decreasign and day is 73\n",
      "temperature is decreasign and day is 74\n",
      "temperature is decreasign and day is 75\n",
      "temperature is decreasign and day is 76\n",
      "temperature is decreasign and day is 77\n",
      "temperature is decreasign and day is 78\n",
      "temperature is decreasign and day is 79\n",
      "temperature is decreasign and day is 80\n",
      "temperature is decreasign and day is 81\n",
      "temperature is decreasign and day is 82\n",
      "temperature is decreasign and day is 83\n",
      "temperature is decreasign and day is 84\n",
      "temperature is decreasign and day is 85\n",
      "temperature is decreasign and day is 86\n",
      "temperature is decreasign and day is 87\n",
      "temperature is decreasign and day is 88\n",
      "temperature is decreasign and day is 89\n",
      "temperature is decreasign and day is 90\n",
      "temperature is decreasign and day is 91\n",
      "temperature is decreasign and day is 92\n",
      "temperature is decreasign and day is 93\n",
      "temperature is decreasign and day is 94\n",
      "temperature is decreasign and day is 95\n",
      "temperature is decreasign and day is 96\n",
      "temperature is decreasign and day is 97\n",
      "temperature is decreasign and day is 98\n",
      "temperature is decreasign and day is 99\n",
      "temperature is decreasign and day is 100\n",
      "temperature is decreasign and day is 101\n",
      "temperature is decreasign and day is 102\n",
      "temperature is decreasign and day is 103\n",
      "temperature is decreasign and day is 104\n",
      "temperature is decreasign and day is 105\n",
      "temperature is decreasign and day is 106\n",
      "temperature is decreasign and day is 107\n",
      "temperature is decreasign and day is 108\n",
      "temperature is decreasign and day is 109\n",
      "temperature is decreasign and day is 110\n",
      "temperature is decreasign and day is 111\n",
      "temperature is decreasign and day is 112\n",
      "temperature is decreasign and day is 113\n",
      "temperature is decreasign and day is 114\n",
      "temperature is decreasign and day is 115\n",
      "temperature is decreasign and day is 116\n",
      "temperature is decreasign and day is 117\n",
      "temperature is decreasign and day is 118\n",
      "temperature is decreasign and day is 119\n",
      "temperature is decreasign and day is 120\n",
      "temperature is decreasign and day is 121\n",
      "temperature is decreasign and day is 122\n",
      "temperature is decreasign and day is 123\n",
      "temperature is decreasign and day is 124\n",
      "temperature is decreasign and day is 125\n",
      "temperature is decreasign and day is 126\n",
      "it is extremly cold you can have vacations\n"
     ]
    }
   ],
   "source": [
    "# while loop is based on objective ( keep on running until my objective or target is not achieved)\n",
    "\n",
    "# from summer we are going to winter and everyday temperature is decreasing 0.5 degrees\n",
    "\n",
    "temp = 10\n",
    "day = 1\n",
    " \n",
    "while (temp > -15):\n",
    "    print('temperature is decreasign and day is',day)\n",
    "    day = day + 1\n",
    "    temp = temp - 0.2\n",
    "print('it is extremly cold you can have vacations')\n"
   ]
  },
  {
   "cell_type": "code",
   "execution_count": 28,
   "metadata": {},
   "outputs": [],
   "source": [
    "# using while loop print numbers from 10 to 25\n"
   ]
  },
  {
   "cell_type": "code",
   "execution_count": null,
   "metadata": {},
   "outputs": [],
   "source": []
  }
 ],
 "metadata": {
  "kernelspec": {
   "display_name": "base",
   "language": "python",
   "name": "python3"
  },
  "language_info": {
   "codemirror_mode": {
    "name": "ipython",
    "version": 3
   },
   "file_extension": ".py",
   "mimetype": "text/x-python",
   "name": "python",
   "nbconvert_exporter": "python",
   "pygments_lexer": "ipython3",
   "version": "3.9.12"
  }
 },
 "nbformat": 4,
 "nbformat_minor": 2
}
