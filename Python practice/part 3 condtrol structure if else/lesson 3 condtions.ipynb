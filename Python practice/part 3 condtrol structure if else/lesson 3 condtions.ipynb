{
 "cells": [
  {
   "attachments": {},
   "cell_type": "markdown",
   "metadata": {},
   "source": [
    "### temperature example\n"
   ]
  },
  {
   "cell_type": "code",
   "execution_count": null,
   "metadata": {},
   "outputs": [
    {
     "name": "stdout",
     "output_type": "stream",
     "text": [
      "10\n"
     ]
    }
   ],
   "source": [
    "# if true run code 1 , else run code 2\n",
    "temperature = input('enter temperature value: ')\n",
    "temperature = int( temperature )\n",
    "if temperature < 10:\n",
    "    print('turn on Heater')\n",
    "    print('abc')\n",
    "else:\n",
    "    print('Turn off Heater')\n",
    "print('program ended')\n"
   ]
  },
  {
   "attachments": {},
   "cell_type": "markdown",
   "metadata": {},
   "source": [
    "\n",
    "###### please make a simplete program that will if age less then 13 then you are kid\n",
    "###### else if age is less than 20 you are a teen ager\n",
    "###### else you are adult"
   ]
  },
  {
   "cell_type": "code",
   "execution_count": null,
   "metadata": {},
   "outputs": [
    {
     "name": "stdout",
     "output_type": "stream",
     "text": [
      "You are a teenger\n"
     ]
    }
   ],
   "source": [
    "\n",
    "age = 19\n",
    "if age < 13:\n",
    "    print('You are a child')\n",
    "else:\n",
    "    if age < 20:\n",
    "        print('You are a teenger')\n",
    "    else:\n",
    "        print('You are a adult')\n"
   ]
  },
  {
   "attachments": {},
   "cell_type": "markdown",
   "metadata": {},
   "source": [
    "##### MAKE MARKS APP"
   ]
  },
  {
   "cell_type": "code",
   "execution_count": null,
   "metadata": {},
   "outputs": [],
   "source": [
    "\n",
    "\n",
    "\n",
    "\n",
    "## usign elif if marks less than 50 print fail, elif marks > 50 and marks <80 grade B, elif marks >= 80 and marks <90 grade A, elif marks greater or equal to 90 and less than 100 A+\n",
    "marks = input('Enter your marks: ')\n",
    "marks = float(marks)\n",
    "if marks < 50:\n",
    "    print('Fail')\n",
    "elif marks >= 50 and marks < 80:\n",
    "    print('Grade B')\n",
    "elif marks >=80 and marks <90:\n",
    "    print('Grade A')\n",
    "elif marks >=90 and marks < 100:\n",
    "    print('A+')\n",
    "else:\n",
    "    print('invalid keep values between 0 to 100')\n"
   ]
  }
 ],
 "metadata": {
  "kernelspec": {
   "display_name": "base",
   "language": "python",
   "name": "python3"
  },
  "language_info": {
   "codemirror_mode": {
    "name": "ipython",
    "version": 3
   },
   "file_extension": ".py",
   "mimetype": "text/x-python",
   "name": "python",
   "nbconvert_exporter": "python",
   "pygments_lexer": "ipython3",
   "version": "2022.5.undefined"
  },
  "orig_nbformat": 4
 },
 "nbformat": 4,
 "nbformat_minor": 2
}
