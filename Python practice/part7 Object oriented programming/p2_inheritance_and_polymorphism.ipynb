{
 "cells": [
  {
   "cell_type": "code",
   "execution_count": 16,
   "metadata": {},
   "outputs": [],
   "source": [
    "# make a class named animal that will have attribute name and legs"
   ]
  },
  {
   "cell_type": "markdown",
   "metadata": {},
   "source": [
    "#### polymorphism and inheritance"
   ]
  },
  {
   "cell_type": "code",
   "execution_count": 17,
   "metadata": {},
   "outputs": [],
   "source": [
    "class Animals:\n",
    "    def __init__(self,name,legs):\n",
    "        self.__name = name\n",
    "        self.__legs = legs\n",
    "    def speak(self):\n",
    "        print('speak function for animals not implemented')\n",
    "    def status(self):\n",
    "        print('if you are watching this it means it is not implemented')\n"
   ]
  },
  {
   "cell_type": "code",
   "execution_count": 18,
   "metadata": {},
   "outputs": [],
   "source": [
    "class Dog(Animals):\n",
    "    def __init__(self,name,legs):\n",
    "        self.__name = name\n",
    "        self.__legs = legs # althought it is implemented in animal class still i am writing no problem\n",
    "    def speak(self):\n",
    "        print('woof')\n",
    "    def status(self):\n",
    "        print('dog is sleeping')\n"
   ]
  },
  {
   "cell_type": "code",
   "execution_count": 19,
   "metadata": {},
   "outputs": [],
   "source": [
    "class Cat(Animals):\n",
    "    def __init__(self, name, legs):\n",
    "        super().__init__(name, legs) # no need to wright noe self.__name as it is implemented in animal classs alreay\n",
    "    def speak(self):\n",
    "        print('meow')\n",
    "    "
   ]
  },
  {
   "cell_type": "markdown",
   "metadata": {},
   "source": [
    "<h5 style='background:red'>having same name function with different functionalities in classes is called polymorphism <h5>\n",
    "<h5 style='background:blue'>getting all properties of parent classs 'Animals' to child class Cat/Dog is called Inheritance <h5>"
   ]
  },
  {
   "cell_type": "code",
   "execution_count": 20,
   "metadata": {},
   "outputs": [
    {
     "name": "stdout",
     "output_type": "stream",
     "text": [
      "meow\n",
      "if you are watching this it means it is not implemented\n"
     ]
    }
   ],
   "source": [
    "c1 = Cat('angela',4)\n",
    "c1.speak()\n",
    "c1.status()"
   ]
  },
  {
   "cell_type": "code",
   "execution_count": 21,
   "metadata": {},
   "outputs": [
    {
     "name": "stdout",
     "output_type": "stream",
     "text": [
      "woof\n",
      "dog is sleeping\n"
     ]
    }
   ],
   "source": [
    "d1 = Dog('angela',4)\n",
    "d1.speak()\n",
    "d1.status()"
   ]
  },
  {
   "cell_type": "code",
   "execution_count": 22,
   "metadata": {},
   "outputs": [],
   "source": [
    "# human with Name and passport ID and nationality, education\n",
    "## inside class make function speak, status change_education_level"
   ]
  },
  {
   "cell_type": "code",
   "execution_count": 23,
   "metadata": {},
   "outputs": [],
   "source": [
    "class Human:\n",
    "    def __init__(self,name,passport_id,nationality,education):\n",
    "        self.name = name\n",
    "        self.passport_id = passport_id\n",
    "        self.nationality = nationality\n",
    "        self.education = education\n",
    "    def speak(self):\n",
    "        print(f'{self.name} can not speak may be')\n",
    "    def status(self):\n",
    "        print( f'{self.name} having nationality of {self.nationality} has passport number {self.passport_id} and his educations is {self.education}')\n",
    "    def change_get_education(self,new_education):\n",
    "        print('Your education is',self.education)"
   ]
  },
  {
   "cell_type": "code",
   "execution_count": 24,
   "metadata": {},
   "outputs": [],
   "source": [
    "class Baby(Human):\n",
    "    def __init__(self, name, passport_id, nationality, education):\n",
    "        super().__init__(name, passport_id, nationality, education)\n",
    "    def status(self): # same name classa nd overwriting main parent class\n",
    "        print('it is just a baby it cries only mostly',self.name)\n",
    "    "
   ]
  },
  {
   "cell_type": "code",
   "execution_count": 25,
   "metadata": {},
   "outputs": [],
   "source": [
    "class Student(Human):\n",
    "    def __init__(self, name, passport_id, nationality, education):\n",
    "        super().__init__(name, passport_id, nationality, education)\n",
    "    def speak(self):\n",
    "        print(f'as a student of country {self.nationality} he can speak its national language')"
   ]
  },
  {
   "cell_type": "code",
   "execution_count": 26,
   "metadata": {},
   "outputs": [
    {
     "name": "stdout",
     "output_type": "stream",
     "text": [
      "it is just a baby it cries only mostly mikael\n"
     ]
    }
   ],
   "source": [
    "b1 = Baby('mikael','110','pakista','primarySchool')\n",
    "b1.status()\n",
    "\n",
    "\n",
    "s1 = Student('francesco','10001','china','matric')\n"
   ]
  },
  {
   "cell_type": "code",
   "execution_count": 27,
   "metadata": {},
   "outputs": [
    {
     "name": "stdout",
     "output_type": "stream",
     "text": [
      "francesco having nationality of china has passport number 10001 and his educations is matric\n"
     ]
    }
   ],
   "source": [
    "s1.status()\n"
   ]
  },
  {
   "cell_type": "code",
   "execution_count": 28,
   "metadata": {},
   "outputs": [],
   "source": [
    "# making classs\n",
    "# preserving a class (encapsulation) , it attributes can not use outside\n",
    "# inehritance --> means use parent class functions in child class (for example Baby and Student classes)\n",
    "# polymorphism --> repeat same functions in child classes"
   ]
  },
  {
   "cell_type": "code",
   "execution_count": null,
   "metadata": {},
   "outputs": [],
   "source": []
  }
 ],
 "metadata": {
  "kernelspec": {
   "display_name": "base",
   "language": "python",
   "name": "python3"
  },
  "language_info": {
   "codemirror_mode": {
    "name": "ipython",
    "version": 3
   },
   "file_extension": ".py",
   "mimetype": "text/x-python",
   "name": "python",
   "nbconvert_exporter": "python",
   "pygments_lexer": "ipython3",
   "version": "3.9.12"
  }
 },
 "nbformat": 4,
 "nbformat_minor": 2
}
